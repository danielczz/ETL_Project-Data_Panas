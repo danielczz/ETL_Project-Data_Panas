{
 "cells": [
  {
   "cell_type": "markdown",
   "metadata": {},
   "source": [
    "# Hola Mundo"
   ]
  },
  {
   "cell_type": "markdown",
   "metadata": {},
   "source": [
    "## Import dependencies"
   ]
  },
  {
   "cell_type": "code",
   "execution_count": null,
   "metadata": {},
   "outputs": [],
   "source": [
    "%matplotlib notebook\n",
    "# Dependencies declaration\n",
    "import matplotlib.pyplot as plt\n",
    "import numpy as np\n",
    "import pandas as pd\n",
    "import sqlalchemy\n",
    "from sqlalchemy import create_engine\n",
    "import os\n",
    "\n",
    "from pandas.io import sql\n",
    "\n",
    "from pandas import DataFrame\n",
    "\n",
    "\n",
    "import mysql.connector\n",
    "from mysql.connector import Error\n",
    "from mysql.connector import errorcode"
   ]
  },
  {
   "cell_type": "code",
   "execution_count": null,
   "metadata": {},
   "outputs": [],
   "source": [
    "from config import database_username\n",
    "from config import database_password"
   ]
  },
  {
   "cell_type": "markdown",
   "metadata": {},
   "source": [
    "## Import all DB catalogs"
   ]
  },
  {
   "cell_type": "markdown",
   "metadata": {},
   "source": [
    "### Read all the path/names of the catalog files"
   ]
  },
  {
   "cell_type": "code",
   "execution_count": null,
   "metadata": {
    "scrolled": true
   },
   "outputs": [],
   "source": [
    "pwd = os.getcwd()\n",
    "#print(pwd)\n",
    "pwd = pwd + '/resources/catalogos'\n",
    "#print(pwd)\n",
    "\n",
    "\n",
    "for path, folders, files in os.walk(pwd):\n",
    "   ## just rename folders inside path \n",
    "    if pwd == path:\n",
    "        #print(path)\n",
    "        #print(folders)\n",
    "        print(files)\n",
    "print(type(files))\n",
    "print(len(files))"
   ]
  },
  {
   "cell_type": "markdown",
   "metadata": {},
   "source": [
    "### Connect to the database"
   ]
  },
  {
   "cell_type": "code",
   "execution_count": null,
   "metadata": {},
   "outputs": [],
   "source": [
    "\n",
    "database_ip       = '127.0.0.1'\n",
    "database_name     = 'defunciones_inegi_db'\n"
   ]
  },
  {
   "cell_type": "code",
   "execution_count": null,
   "metadata": {},
   "outputs": [],
   "source": [
    "\n",
    "mydb = mysql.connector.connect(\n",
    "  host=database_ip,\n",
    "  user=database_username,\n",
    "  passwd=database_password\n",
    ")\n",
    "\n",
    "mycursor = mydb.cursor()\n",
    "\n",
    "mycursor.execute(\"CREATE DATABASE IF NOT EXISTS defunciones_inegi_db;\")\n",
    "\n",
    "mydb.close()"
   ]
  },
  {
   "cell_type": "code",
   "execution_count": null,
   "metadata": {},
   "outputs": [],
   "source": [
    "\n",
    "database_connection = sqlalchemy.create_engine('mysql+mysqlconnector://{0}:{1}@{2}/{3}?charset=latin1'.format(database_username, database_password, database_ip, database_name))\n",
    "\n",
    "\n"
   ]
  },
  {
   "cell_type": "markdown",
   "metadata": {},
   "source": [
    "### Read each catalog CSV and load it to the database as a table"
   ]
  },
  {
   "cell_type": "code",
   "execution_count": null,
   "metadata": {},
   "outputs": [],
   "source": [
    "\n",
    "\n",
    "print(f'###### Creating the tables')\n",
    "for x in files:\n",
    "    try:\n",
    "        \n",
    "        if x == 'decateml.csv':\n",
    "            df = pd.read_csv(\"resources/catalogos/\"+ x, encoding ='latin1')\n",
    "            s = x.split(\".csv\")\n",
    "            df = df.rename(columns={'CVE': str(s[0]) + \"_id\"})\n",
    "            df = df.rename(columns={'cve_ent': str(s[0]) + \"_entidad_id\"})\n",
    "            df = df.rename(columns={'cve_mun': str(s[0]) + \"_municipio_id\"})\n",
    "            df = df.rename(columns={'cve_loc': str(s[0]) + \"_locacion_id\"})\n",
    "            df.to_sql(\"c_\"+str(s[0]), con=database_connection, if_exists='replace', index=False) \n",
    "        else:\n",
    "            df = pd.read_csv(\"resources/catalogos/\"+ x, encoding='latin1')\n",
    "            s = x.split(\".csv\")\n",
    "            df = df.rename(columns={'CVE': str(s[0]) + \"_id\"})\n",
    "            df.to_sql(\"c_\"+str(s[0]), con=database_connection, if_exists='replace', index=False) \n",
    "        \n",
    "\n",
    "            \n",
    "    \n",
    "    except Exception as e:\n",
    "      print(f'Error detected in file', str(e))\n",
    "print(f'###### Tables created')"
   ]
  },
  {
   "cell_type": "code",
   "execution_count": null,
   "metadata": {},
   "outputs": [],
   "source": [
    "# Open and read the file as a single buffer\n",
    "fd = open('create_db_schema.sql', 'r')\n",
    "sqlFile = fd.read()\n",
    "fd.close()\n",
    "\n",
    "# all SQL commands (split on ';')\n",
    "sqlCommands = sqlFile.split(';')\n",
    "\n",
    "\n",
    "try:\n",
    "    print('[#########] Running the create_db_schema.sql script')\n",
    "    \n",
    "    conn = mysql.connector.connect(host=database_ip,\n",
    "                             database=database_name,\n",
    "                             user=database_username,\n",
    "                             password=database_password)\n",
    "    cursor = conn.cursor()\n",
    "    \n",
    "    for command in sqlCommands:\n",
    "        try:\n",
    "            cursor.execute(command)\n",
    "            #print(command)\n",
    "        except Exception as e:\n",
    "            print(f'Error detected: ', str(e))\n",
    "            \n",
    "    print('[#########] create_db_schema.sql script ran succesfuly')\n",
    "    \n",
    "except Exception as e:\n",
    "        print(f'Error detected: ', str(e))\n",
    "finally:\n",
    "    #closing database connection.\n",
    "    if(conn.is_connected()):\n",
    "        conn.close()\n",
    "        print('[#########] MySQL connection is closed')\n",
    "\n",
    "\n",
    "\n",
    "\n"
   ]
  },
  {
   "cell_type": "markdown",
   "metadata": {},
   "source": [
    "### Read the transactional data csv "
   ]
  },
  {
   "cell_type": "code",
   "execution_count": null,
   "metadata": {},
   "outputs": [],
   "source": [
    "d_defunciones_generales = 'defunciones_generales_2012.csv'\n",
    "\n",
    "df = pd.read_csv(\"resources/conjunto_de_datos/\"+ d_defunciones_generales, encoding ='latin1')\n"
   ]
  },
  {
   "cell_type": "markdown",
   "metadata": {},
   "source": [
    "### Load the transactional data into the database"
   ]
  },
  {
   "cell_type": "markdown",
   "metadata": {},
   "source": [
    "try:\n",
    "    conn = mysql.connector.connect(host=database_ip,\n",
    "                             database=database_name,\n",
    "                             user=database_username,\n",
    "                             password=database_password)\n",
    "    cursor = conn.cursor()\n",
    "    print (\"Displaying records Before Deleting single record from mobile table\")\n",
    "    sql_select_query = \"\"\"select count(*) from d_defunciones_generales;\"\"\"\n",
    "    cursor.execute(sql_select_query)\n",
    "    records = cursor.fetchall()\n",
    "    for record in records :\n",
    "        print (record)\n",
    "    #Delete record now\n",
    "    #sql_Delete_query = \"\"\"delete from d_defunciones_generales;\"\"\"\n",
    "    #cursor.execute(sql_Delete_query)\n",
    "    #conn.commit()\n",
    "    print (\"\\nRecord Deleted successfully \")\n",
    "    print(\"\\nDisplaying Total records from mobile table after Deleting single record \\n \")\n",
    "    cursor.execute(sql_select_query)\n",
    "    records = cursor.fetchall()\n",
    "    for record in records:\n",
    "        print(record)\n",
    "except mysql.connector.Error as error :\n",
    "    print(\"Failed to delete record to database: {}\".format(error))\n",
    "finally:\n",
    "    #closing database connection.\n",
    "    if(conn.is_connected()):\n",
    "        conn.close()\n",
    "        print(\"MySQL connection is closed\")"
   ]
  },
  {
   "cell_type": "code",
   "execution_count": null,
   "metadata": {},
   "outputs": [],
   "source": [
    "### Se guardan los datos de 10K en 10K en la base de datos\n",
    "### porque por alguna razon si se meten mas datos el programa crashea\n",
    "\n",
    "cargar_de = 10000 \n",
    "\n",
    "indexx = 0\n",
    "limit = len(df)\n",
    "\n",
    "while (indexx<=limit):\n",
    "    \n",
    "    final =  indexx + cargar_de\n",
    "    \n",
    "    try:\n",
    "        print(f'[#########] Saving from index {indexx} to {final}.')\n",
    "        df.iloc[indexx:final].to_sql(name='d_defunciones_generales', con=database_connection, if_exists='append', index=False) \n",
    "\n",
    "    except Exception as e:\n",
    "        print(f'Error detected in file', str(e))\n",
    "        \n",
    "    indexx = indexx + cargar_de\n",
    "\n",
    "print(f'[#########]  Data saved.')"
   ]
  },
  {
   "cell_type": "code",
   "execution_count": null,
   "metadata": {},
   "outputs": [],
   "source": []
  },
  {
   "cell_type": "code",
   "execution_count": null,
   "metadata": {},
   "outputs": [],
   "source": []
  },
  {
   "cell_type": "code",
   "execution_count": null,
   "metadata": {},
   "outputs": [],
   "source": [
    "\n",
    "try:\n",
    "    print(\"[#########] Reading table\")\n",
    "    \n",
    "    conn = mysql.connector.connect(host=database_ip,\n",
    "                             database=database_name,\n",
    "                             user=database_username,\n",
    "                             password=database_password)\n",
    "    cursor = conn.cursor()\n",
    "    \n",
    "    sql_select_Query = \"select * from vw_derecho_habiencia;\"\n",
    "\n",
    "    cursor.execute(sql_select_Query)\n",
    "\n",
    "    result_df = DataFrame(cursor.fetchall())\n",
    "    table_desc = cursor.description\n",
    " \n",
    "    headers = []\n",
    "    for header in table_desc:\n",
    "        headers.append(header[0])\n",
    "    \n",
    "    result_df.columns = headers\n",
    "    \n",
    "    #for row in records:\n",
    "    #    print(row)\n",
    "\n",
    "    cursor.close()\n",
    "    \n",
    "    print(\"[#########] Table saved to dataframe\")\n",
    "\n",
    "except Exception as e:\n",
    "    print(f'Error detected in file', str(e))\n",
    "finally:\n",
    "    #closing database connection.\n",
    "    if(conn.is_connected()):\n",
    "        conn.close()\n",
    "        print(\"[#########] MySQL connection is closed\")"
   ]
  },
  {
   "cell_type": "code",
   "execution_count": null,
   "metadata": {},
   "outputs": [],
   "source": [
    "result_df\n"
   ]
  },
  {
   "cell_type": "code",
   "execution_count": null,
   "metadata": {},
   "outputs": [],
   "source": []
  },
  {
   "cell_type": "code",
   "execution_count": null,
   "metadata": {},
   "outputs": [],
   "source": []
  },
  {
   "cell_type": "code",
   "execution_count": null,
   "metadata": {},
   "outputs": [],
   "source": []
  },
  {
   "cell_type": "code",
   "execution_count": null,
   "metadata": {},
   "outputs": [],
   "source": []
  },
  {
   "cell_type": "code",
   "execution_count": null,
   "metadata": {},
   "outputs": [],
   "source": []
  }
 ],
 "metadata": {
  "kernelspec": {
   "display_name": "Python 3",
   "language": "python",
   "name": "python3"
  },
  "language_info": {
   "codemirror_mode": {
    "name": "ipython",
    "version": 3
   },
   "file_extension": ".py",
   "mimetype": "text/x-python",
   "name": "python",
   "nbconvert_exporter": "python",
   "pygments_lexer": "ipython3",
   "version": "3.6.8"
  }
 },
 "nbformat": 4,
 "nbformat_minor": 2
}
