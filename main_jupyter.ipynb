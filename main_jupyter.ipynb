{
 "cells": [
  {
   "cell_type": "markdown",
   "metadata": {},
   "source": [
    "## Import dependencies"
   ]
  },
  {
   "cell_type": "code",
   "execution_count": 4,
   "metadata": {},
   "outputs": [],
   "source": [
    "%matplotlib notebook\n",
    "# Dependencies declaration\n",
    "import matplotlib.pyplot as plt\n",
    "import numpy as np\n",
    "import pandas as pd\n",
    "import sqlalchemy\n",
    "from sqlalchemy import create_engine\n",
    "import os\n",
    "\n",
    "from pandas.io import sql\n",
    "\n",
    "from pandas import DataFrame\n",
    "\n",
    "\n",
    "import mysql.connector\n",
    "from mysql.connector import Error\n",
    "from mysql.connector import errorcode"
   ]
  },
  {
   "cell_type": "code",
   "execution_count": 5,
   "metadata": {},
   "outputs": [],
   "source": [
    "from config import database_username\n",
    "from config import database_password"
   ]
  },
  {
   "cell_type": "markdown",
   "metadata": {},
   "source": [
    "## Import all DB catalogs"
   ]
  },
  {
   "cell_type": "markdown",
   "metadata": {},
   "source": [
    "### Read all the path/names of the catalog files"
   ]
  },
  {
   "cell_type": "code",
   "execution_count": 6,
   "metadata": {
    "scrolled": true
   },
   "outputs": [
    {
     "name": "stdout",
     "output_type": "stream",
     "text": [
      "['decomplicaemba.csv', 'deurbrur.csv', 'dederech.csv', 'degpolisme.csv', 'decertif.csv', 'decateml.csv', 'delista1.csv', 'deesco.csv', 'decondact.csv', 'deparenagresor.csv', 'desitiolesion.csv', 'decondemba.csv', 'deedadagrup.csv', 'desexo.csv', 'decatcausa.csv', 'deocutrab.csv', 'delistamex.csv', 'demeses.csv', 'dehoradef.csv', 'desitiodefun.csv', 'detamloc.csv', 'deedocony.csv', 'deocupa.csv', 'deedad.csv', 'delengindi.csv', 'depresunto.csv', 'demindef.csv', 'derelemba.csv', 'decapitulo.csv', 'denacion.csv', 'deviofam.csv', 'denecrop.csv', 'deasismed.csv', 'dedias.csv', 'derazonm.csv', 'deyear.csv', 'decapgpo.csv']\n",
      "<class 'list'>\n",
      "37\n"
     ]
    }
   ],
   "source": [
    "pwd = os.getcwd()\n",
    "#print(pwd)\n",
    "pwd = pwd + '/resources/catalogos'\n",
    "#print(pwd)\n",
    "\n",
    "\n",
    "for path, folders, files in os.walk(pwd):\n",
    "   ## just rename folders inside path \n",
    "    if pwd == path:\n",
    "        #print(path)\n",
    "        #print(folders)\n",
    "        print(files)\n",
    "print(type(files))\n",
    "print(len(files))"
   ]
  },
  {
   "cell_type": "markdown",
   "metadata": {},
   "source": [
    "### Connect to the database"
   ]
  },
  {
   "cell_type": "code",
   "execution_count": 7,
   "metadata": {},
   "outputs": [],
   "source": [
    "database_ip       = '127.0.0.1'\n",
    "database_name     = 'defunciones_inegi_db'"
   ]
  },
  {
   "cell_type": "code",
   "execution_count": 8,
   "metadata": {},
   "outputs": [],
   "source": [
    "mydb = mysql.connector.connect(\n",
    "  host=database_ip,\n",
    "  user=database_username,\n",
    "  passwd=database_password\n",
    ")\n",
    "\n",
    "mycursor = mydb.cursor()\n",
    "\n",
    "mycursor.execute(\"CREATE DATABASE IF NOT EXISTS defunciones_inegi_db;\")\n",
    "\n",
    "mydb.close()"
   ]
  },
  {
   "cell_type": "code",
   "execution_count": 9,
   "metadata": {},
   "outputs": [],
   "source": [
    "database_connection = sqlalchemy.create_engine('mysql+mysqlconnector://{0}:{1}@{2}/{3}?charset=latin1'.format(database_username, database_password, database_ip, database_name))"
   ]
  },
  {
   "cell_type": "markdown",
   "metadata": {},
   "source": [
    "### Read each catalog CSV and load it to the database as a table"
   ]
  },
  {
   "cell_type": "code",
   "execution_count": 10,
   "metadata": {},
   "outputs": [
    {
     "name": "stdout",
     "output_type": "stream",
     "text": [
      "###### Creating the tables\n",
      "###### Tables created\n"
     ]
    }
   ],
   "source": [
    "print(f'###### Creating the tables')\n",
    "for x in files:\n",
    "    try:\n",
    "        \n",
    "        if x == 'decateml.csv':\n",
    "            df = pd.read_csv(\"resources/catalogos/\"+ x, encoding ='latin1')\n",
    "            s = x.split(\".csv\")\n",
    "            df = df.rename(columns={'CVE': str(s[0]) + \"_id\"})\n",
    "            df = df.rename(columns={'cve_ent': str(s[0]) + \"_entidad_id\"})\n",
    "            df = df.rename(columns={'cve_mun': str(s[0]) + \"_municipio_id\"})\n",
    "            df = df.rename(columns={'cve_loc': str(s[0]) + \"_locacion_id\"})\n",
    "            df.to_sql(\"c_\"+str(s[0]), con=database_connection, if_exists='replace', index=False) \n",
    "        else:\n",
    "            df = pd.read_csv(\"resources/catalogos/\"+ x, encoding='latin1')\n",
    "            s = x.split(\".csv\")\n",
    "            df = df.rename(columns={'CVE': str(s[0]) + \"_id\"})\n",
    "            df.to_sql(\"c_\"+str(s[0]), con=database_connection, if_exists='replace', index=False) \n",
    "        \n",
    "\n",
    "            \n",
    "    \n",
    "    except Exception as e:\n",
    "      print(f'Error detected in file', str(e))\n",
    "print(f'###### Tables created')"
   ]
  },
  {
   "cell_type": "code",
   "execution_count": 11,
   "metadata": {},
   "outputs": [
    {
     "name": "stdout",
     "output_type": "stream",
     "text": [
      "[#########] Running the create_db_schema.sql script\n",
      "[#########] create_db_schema.sql script ran succesfuly\n",
      "[#########] MySQL connection is closed\n"
     ]
    }
   ],
   "source": [
    "# Open and read the file as a single buffer\n",
    "fd = open('create_db_schema.sql', 'r')\n",
    "sqlFile = fd.read()\n",
    "fd.close()\n",
    "\n",
    "# all SQL commands (split on ';')\n",
    "sqlCommands = sqlFile.split(';')\n",
    "\n",
    "\n",
    "try:\n",
    "    print('[#########] Running the create_db_schema.sql script')\n",
    "    \n",
    "    conn = mysql.connector.connect(host=database_ip,\n",
    "                             database=database_name,\n",
    "                             user=database_username,\n",
    "                             password=database_password)\n",
    "    cursor = conn.cursor()\n",
    "    \n",
    "    for command in sqlCommands:\n",
    "        try:\n",
    "            cursor.execute(command)\n",
    "            #print(command)\n",
    "        except Exception as e:\n",
    "            print(f'Error detected: ', str(e))\n",
    "            \n",
    "    print('[#########] create_db_schema.sql script ran succesfuly')\n",
    "    \n",
    "except Exception as e:\n",
    "        print(f'Error detected: ', str(e))\n",
    "finally:\n",
    "    #closing database connection.\n",
    "    if(conn.is_connected()):\n",
    "        conn.close()\n",
    "        print('[#########] MySQL connection is closed')"
   ]
  },
  {
   "cell_type": "markdown",
   "metadata": {},
   "source": [
    "### Read the transactional data csv "
   ]
  },
  {
   "cell_type": "code",
   "execution_count": 12,
   "metadata": {},
   "outputs": [],
   "source": [
    "d_defunciones_generales = 'defunciones_generales_2012.csv'\n",
    "\n",
    "df = pd.read_csv(\"resources/conjunto_de_datos/\"+ d_defunciones_generales, encoding ='latin1')"
   ]
  },
  {
   "cell_type": "markdown",
   "metadata": {},
   "source": [
    "### Load the transactional data into the database"
   ]
  },
  {
   "cell_type": "markdown",
   "metadata": {},
   "source": [
    "try:\n",
    "    conn = mysql.connector.connect(host=database_ip,\n",
    "                             database=database_name,\n",
    "                             user=database_username,\n",
    "                             password=database_password)\n",
    "    cursor = conn.cursor()\n",
    "    print (\"Displaying records Before Deleting single record from mobile table\")\n",
    "    sql_select_query = \"\"\"select count(*) from d_defunciones_generales;\"\"\"\n",
    "    cursor.execute(sql_select_query)\n",
    "    records = cursor.fetchall()\n",
    "    for record in records :\n",
    "        print (record)\n",
    "    #Delete record now\n",
    "    #sql_Delete_query = \"\"\"delete from d_defunciones_generales;\"\"\"\n",
    "    #cursor.execute(sql_Delete_query)\n",
    "    #conn.commit()\n",
    "    print (\"\\nRecord Deleted successfully \")\n",
    "    print(\"\\nDisplaying Total records from mobile table after Deleting single record \\n \")\n",
    "    cursor.execute(sql_select_query)\n",
    "    records = cursor.fetchall()\n",
    "    for record in records:\n",
    "        print(record)\n",
    "except mysql.connector.Error as error :\n",
    "    print(\"Failed to delete record to database: {}\".format(error))\n",
    "finally:\n",
    "    #closing database connection.\n",
    "    if(conn.is_connected()):\n",
    "        conn.close()\n",
    "        print(\"MySQL connection is closed\")"
   ]
  },
  {
   "cell_type": "code",
   "execution_count": 13,
   "metadata": {},
   "outputs": [
    {
     "name": "stdout",
     "output_type": "stream",
     "text": [
      "[#########] Saving from index 0 to 10000.\n",
      "[#########] Saving from index 10000 to 20000.\n",
      "[#########] Saving from index 20000 to 30000.\n",
      "[#########] Saving from index 30000 to 40000.\n",
      "[#########] Saving from index 40000 to 50000.\n",
      "[#########] Saving from index 50000 to 60000.\n",
      "[#########] Saving from index 60000 to 70000.\n",
      "[#########] Saving from index 70000 to 80000.\n",
      "[#########] Saving from index 80000 to 90000.\n",
      "[#########] Saving from index 90000 to 100000.\n",
      "[#########] Saving from index 100000 to 110000.\n",
      "[#########] Saving from index 110000 to 120000.\n",
      "[#########] Saving from index 120000 to 130000.\n",
      "[#########] Saving from index 130000 to 140000.\n",
      "[#########] Saving from index 140000 to 150000.\n",
      "[#########] Saving from index 150000 to 160000.\n",
      "[#########] Saving from index 160000 to 170000.\n",
      "[#########] Saving from index 170000 to 180000.\n",
      "[#########] Saving from index 180000 to 190000.\n",
      "[#########] Saving from index 190000 to 200000.\n",
      "[#########] Saving from index 200000 to 210000.\n",
      "[#########] Saving from index 210000 to 220000.\n",
      "[#########] Saving from index 220000 to 230000.\n",
      "[#########] Saving from index 230000 to 240000.\n",
      "[#########] Saving from index 240000 to 250000.\n",
      "[#########] Saving from index 250000 to 260000.\n",
      "[#########] Saving from index 260000 to 270000.\n",
      "[#########] Saving from index 270000 to 280000.\n",
      "[#########] Saving from index 280000 to 290000.\n",
      "[#########] Saving from index 290000 to 300000.\n",
      "[#########] Saving from index 300000 to 310000.\n",
      "[#########] Saving from index 310000 to 320000.\n",
      "[#########] Saving from index 320000 to 330000.\n",
      "[#########] Saving from index 330000 to 340000.\n",
      "[#########] Saving from index 340000 to 350000.\n",
      "[#########] Saving from index 350000 to 360000.\n",
      "[#########] Saving from index 360000 to 370000.\n",
      "[#########] Saving from index 370000 to 380000.\n",
      "[#########] Saving from index 380000 to 390000.\n",
      "[#########] Saving from index 390000 to 400000.\n",
      "[#########] Saving from index 400000 to 410000.\n",
      "[#########] Saving from index 410000 to 420000.\n",
      "[#########] Saving from index 420000 to 430000.\n",
      "[#########] Saving from index 430000 to 440000.\n",
      "[#########] Saving from index 440000 to 450000.\n",
      "[#########] Saving from index 450000 to 460000.\n",
      "[#########] Saving from index 460000 to 470000.\n",
      "[#########] Saving from index 470000 to 480000.\n",
      "[#########] Saving from index 480000 to 490000.\n",
      "[#########] Saving from index 490000 to 500000.\n",
      "[#########] Saving from index 500000 to 510000.\n",
      "[#########] Saving from index 510000 to 520000.\n",
      "[#########] Saving from index 520000 to 530000.\n",
      "[#########] Saving from index 530000 to 540000.\n",
      "[#########] Saving from index 540000 to 550000.\n",
      "[#########] Saving from index 550000 to 560000.\n",
      "[#########] Saving from index 560000 to 570000.\n",
      "[#########] Saving from index 570000 to 580000.\n",
      "[#########] Saving from index 580000 to 590000.\n",
      "[#########] Saving from index 590000 to 600000.\n",
      "[#########] Saving from index 600000 to 610000.\n",
      "[#########]  Data saved.\n"
     ]
    }
   ],
   "source": [
    "### Se guardan los datos de 10K en 10K en la base de datos\n",
    "### porque por alguna razon si se meten mas datos el programa crashea\n",
    "\n",
    "cargar_de = 10000 \n",
    "\n",
    "indexx = 0\n",
    "limit = len(df)\n",
    "\n",
    "while (indexx<=limit):\n",
    "    \n",
    "    final =  indexx + cargar_de\n",
    "    \n",
    "    try:\n",
    "        print(f'[#########] Saving from index {indexx} to {final}.')\n",
    "        df.iloc[indexx:final].to_sql(name='d_defunciones_generales', con=database_connection, if_exists='append', index=False) \n",
    "\n",
    "    except Exception as e:\n",
    "        print(f'Error detected in file', str(e))\n",
    "        \n",
    "    indexx = indexx + cargar_de\n",
    "\n",
    "print(f'[#########]  Data saved.')"
   ]
  },
  {
   "cell_type": "code",
   "execution_count": 14,
   "metadata": {},
   "outputs": [
    {
     "name": "stdout",
     "output_type": "stream",
     "text": [
      "[#########] Reading table\n",
      "[#########] Table saved to dataframe\n",
      "[#########] MySQL connection is closed\n"
     ]
    }
   ],
   "source": [
    "\n",
    "try:\n",
    "    print(\"[#########] Reading table\")\n",
    "    \n",
    "    conn = mysql.connector.connect(host=database_ip,\n",
    "                             database=database_name,\n",
    "                             user=database_username,\n",
    "                             password=database_password)\n",
    "    cursor = conn.cursor()\n",
    "    \n",
    "    sql_select_Query = \"select * from vw_derecho_habiencia;\"\n",
    "\n",
    "    cursor.execute(sql_select_Query)\n",
    "\n",
    "    result_df = DataFrame(cursor.fetchall())\n",
    "    table_desc = cursor.description\n",
    " \n",
    "    headers = []\n",
    "    for header in table_desc:\n",
    "        headers.append(header[0])\n",
    "    \n",
    "    result_df.columns = headers\n",
    "    \n",
    "    #for row in records:\n",
    "    #    print(row)\n",
    "\n",
    "    cursor.close()\n",
    "    \n",
    "    print(\"[#########] Table saved to dataframe\")\n",
    "\n",
    "except Exception as e:\n",
    "    print(f'Error detected in file', str(e))\n",
    "finally:\n",
    "    #closing database connection.\n",
    "    if(conn.is_connected()):\n",
    "        conn.close()\n",
    "        print(\"[#########] MySQL connection is closed\")"
   ]
  },
  {
   "cell_type": "code",
   "execution_count": 16,
   "metadata": {},
   "outputs": [
    {
     "data": {
      "text/html": [
       "<div>\n",
       "<style scoped>\n",
       "    .dataframe tbody tr th:only-of-type {\n",
       "        vertical-align: middle;\n",
       "    }\n",
       "\n",
       "    .dataframe tbody tr th {\n",
       "        vertical-align: top;\n",
       "    }\n",
       "\n",
       "    .dataframe thead th {\n",
       "        text-align: right;\n",
       "    }\n",
       "</style>\n",
       "<table border=\"1\" class=\"dataframe\">\n",
       "  <thead>\n",
       "    <tr style=\"text-align: right;\">\n",
       "      <th></th>\n",
       "      <th>derechohab</th>\n",
       "      <th>derechi_habiencia</th>\n",
       "      <th>cantidad_derecho</th>\n",
       "    </tr>\n",
       "  </thead>\n",
       "  <tbody>\n",
       "    <tr>\n",
       "      <th>0</th>\n",
       "      <td>1</td>\n",
       "      <td>Ninguna</td>\n",
       "      <td>121871</td>\n",
       "    </tr>\n",
       "    <tr>\n",
       "      <th>1</th>\n",
       "      <td>2</td>\n",
       "      <td>IMSS</td>\n",
       "      <td>198974</td>\n",
       "    </tr>\n",
       "    <tr>\n",
       "      <th>2</th>\n",
       "      <td>3</td>\n",
       "      <td>ISSSTE</td>\n",
       "      <td>43519</td>\n",
       "    </tr>\n",
       "    <tr>\n",
       "      <th>3</th>\n",
       "      <td>4</td>\n",
       "      <td>PEMEX</td>\n",
       "      <td>5009</td>\n",
       "    </tr>\n",
       "    <tr>\n",
       "      <th>4</th>\n",
       "      <td>5</td>\n",
       "      <td>SEDENA</td>\n",
       "      <td>3363</td>\n",
       "    </tr>\n",
       "    <tr>\n",
       "      <th>5</th>\n",
       "      <td>6</td>\n",
       "      <td>SEMAR</td>\n",
       "      <td>963</td>\n",
       "    </tr>\n",
       "    <tr>\n",
       "      <th>6</th>\n",
       "      <td>7</td>\n",
       "      <td>Seguro popular</td>\n",
       "      <td>142357</td>\n",
       "    </tr>\n",
       "    <tr>\n",
       "      <th>7</th>\n",
       "      <td>8</td>\n",
       "      <td>Otra</td>\n",
       "      <td>12380</td>\n",
       "    </tr>\n",
       "    <tr>\n",
       "      <th>8</th>\n",
       "      <td>9</td>\n",
       "      <td>IMSS oportunidades</td>\n",
       "      <td>3386</td>\n",
       "    </tr>\n",
       "    <tr>\n",
       "      <th>9</th>\n",
       "      <td>99</td>\n",
       "      <td>Derechohabiencia no especificada</td>\n",
       "      <td>70532</td>\n",
       "    </tr>\n",
       "  </tbody>\n",
       "</table>\n",
       "</div>"
      ],
      "text/plain": [
       "   derechohab                 derechi_habiencia  cantidad_derecho\n",
       "0           1                           Ninguna            121871\n",
       "1           2                              IMSS            198974\n",
       "2           3                            ISSSTE             43519\n",
       "3           4                             PEMEX              5009\n",
       "4           5                            SEDENA              3363\n",
       "5           6                             SEMAR               963\n",
       "6           7                    Seguro popular            142357\n",
       "7           8                              Otra             12380\n",
       "8           9                IMSS oportunidades              3386\n",
       "9          99  Derechohabiencia no especificada             70532"
      ]
     },
     "execution_count": 16,
     "metadata": {},
     "output_type": "execute_result"
    }
   ],
   "source": [
    "result_df"
   ]
  }
 ],
 "metadata": {
  "kernelspec": {
   "display_name": "Python 3",
   "language": "python",
   "name": "python3"
  },
  "language_info": {
   "codemirror_mode": {
    "name": "ipython",
    "version": 3
   },
   "file_extension": ".py",
   "mimetype": "text/x-python",
   "name": "python",
   "nbconvert_exporter": "python",
   "pygments_lexer": "ipython3",
   "version": "3.6.8"
  }
 },
 "nbformat": 4,
 "nbformat_minor": 2
}
